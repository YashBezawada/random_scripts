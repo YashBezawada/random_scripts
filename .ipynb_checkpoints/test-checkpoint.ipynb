{
 "cells": [
  {
   "cell_type": "code",
   "execution_count": 2,
   "metadata": {},
   "outputs": [],
   "source": [
    "import csv\n",
    "import numpy as np\n",
    "# import ROOT\n",
    "\n",
    "time = []\n",
    "pdf = []\n",
    "\n",
    "with open('DICER_MARKIV_1.0.csv') as csv_file:\n",
    "    csv_reader = csv.reader(csv_file, delimiter=',')\n",
    "    for row in csv_reader:\n",
    "        pdf.append(float(row[1]))\n",
    "        time.append(float(row[0]))\n",
    "\n",
    "pdf_np = np.array(pdf)\n",
    "time_np = np.array(time)\n",
    "\n",
    "bins = (time[-1]-time[0])/0.05 + 1\n",
    "min = time[0] - 0.025\n",
    "max = time[-1] + 0.025\n",
    "\n",
    "\n",
    "# h1 = ROOT.TH1D(\"h1\",\"time pdf hist\",bins,min,max)\n",
    "\n",
    "# for i in range(bins):\n",
    "#     h1.SetBinContent(i, pdf_np[i])"
   ]
  },
  {
   "cell_type": "code",
   "execution_count": null,
   "metadata": {},
   "outputs": [],
   "source": []
  }
 ],
 "metadata": {
  "kernelspec": {
   "display_name": "Python 3 (ipykernel)",
   "language": "python",
   "name": "python3"
  },
  "language_info": {
   "codemirror_mode": {
    "name": "ipython",
    "version": 3
   },
   "file_extension": ".py",
   "mimetype": "text/x-python",
   "name": "python",
   "nbconvert_exporter": "python",
   "pygments_lexer": "ipython3",
   "version": "3.10.9"
  },
  "vscode": {
   "interpreter": {
    "hash": "6de0d8144368ce6249a0ad3d65f5256ae132dd7e39e2f4dd3e87fe8b7c24272a"
   }
  }
 },
 "nbformat": 4,
 "nbformat_minor": 2
}
